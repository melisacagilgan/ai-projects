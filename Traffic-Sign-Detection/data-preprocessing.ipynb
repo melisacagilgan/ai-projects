{
 "cells": [
  {
   "cell_type": "code",
   "execution_count": 1,
   "id": "d0429927",
   "metadata": {
    "execution": {
     "iopub.execute_input": "2025-09-26T18:02:16.718930Z",
     "iopub.status.busy": "2025-09-26T18:02:16.718685Z",
     "iopub.status.idle": "2025-09-26T18:02:20.662866Z",
     "shell.execute_reply": "2025-09-26T18:02:20.662002Z"
    },
    "papermill": {
     "duration": 3.950383,
     "end_time": "2025-09-26T18:02:20.664260",
     "exception": false,
     "start_time": "2025-09-26T18:02:16.713877",
     "status": "completed"
    },
    "tags": []
   },
   "outputs": [
    {
     "name": "stdout",
     "output_type": "stream",
     "text": [
      "Requirement already satisfied: kagglehub[pandas-datasets] in /usr/local/lib/python3.11/dist-packages (0.3.12)\r\n",
      "Requirement already satisfied: packaging in /usr/local/lib/python3.11/dist-packages (from kagglehub[pandas-datasets]) (25.0)\r\n",
      "Requirement already satisfied: pyyaml in /usr/local/lib/python3.11/dist-packages (from kagglehub[pandas-datasets]) (6.0.2)\r\n",
      "Requirement already satisfied: requests in /usr/local/lib/python3.11/dist-packages (from kagglehub[pandas-datasets]) (2.32.4)\r\n",
      "Requirement already satisfied: tqdm in /usr/local/lib/python3.11/dist-packages (from kagglehub[pandas-datasets]) (4.67.1)\r\n",
      "Requirement already satisfied: pandas in /usr/local/lib/python3.11/dist-packages (from kagglehub[pandas-datasets]) (2.2.3)\r\n",
      "Requirement already satisfied: numpy>=1.23.2 in /usr/local/lib/python3.11/dist-packages (from pandas->kagglehub[pandas-datasets]) (1.26.4)\r\n",
      "Requirement already satisfied: python-dateutil>=2.8.2 in /usr/local/lib/python3.11/dist-packages (from pandas->kagglehub[pandas-datasets]) (2.9.0.post0)\r\n",
      "Requirement already satisfied: pytz>=2020.1 in /usr/local/lib/python3.11/dist-packages (from pandas->kagglehub[pandas-datasets]) (2025.2)\r\n",
      "Requirement already satisfied: tzdata>=2022.7 in /usr/local/lib/python3.11/dist-packages (from pandas->kagglehub[pandas-datasets]) (2025.2)\r\n",
      "Requirement already satisfied: charset_normalizer<4,>=2 in /usr/local/lib/python3.11/dist-packages (from requests->kagglehub[pandas-datasets]) (3.4.2)\r\n",
      "Requirement already satisfied: idna<4,>=2.5 in /usr/local/lib/python3.11/dist-packages (from requests->kagglehub[pandas-datasets]) (3.10)\r\n",
      "Requirement already satisfied: urllib3<3,>=1.21.1 in /usr/local/lib/python3.11/dist-packages (from requests->kagglehub[pandas-datasets]) (2.5.0)\r\n",
      "Requirement already satisfied: certifi>=2017.4.17 in /usr/local/lib/python3.11/dist-packages (from requests->kagglehub[pandas-datasets]) (2025.6.15)\r\n",
      "Requirement already satisfied: mkl_fft in /usr/local/lib/python3.11/dist-packages (from numpy>=1.23.2->pandas->kagglehub[pandas-datasets]) (1.3.8)\r\n",
      "Requirement already satisfied: mkl_random in /usr/local/lib/python3.11/dist-packages (from numpy>=1.23.2->pandas->kagglehub[pandas-datasets]) (1.2.4)\r\n",
      "Requirement already satisfied: mkl_umath in /usr/local/lib/python3.11/dist-packages (from numpy>=1.23.2->pandas->kagglehub[pandas-datasets]) (0.1.1)\r\n",
      "Requirement already satisfied: mkl in /usr/local/lib/python3.11/dist-packages (from numpy>=1.23.2->pandas->kagglehub[pandas-datasets]) (2025.2.0)\r\n",
      "Requirement already satisfied: tbb4py in /usr/local/lib/python3.11/dist-packages (from numpy>=1.23.2->pandas->kagglehub[pandas-datasets]) (2022.2.0)\r\n",
      "Requirement already satisfied: mkl-service in /usr/local/lib/python3.11/dist-packages (from numpy>=1.23.2->pandas->kagglehub[pandas-datasets]) (2.4.1)\r\n",
      "Requirement already satisfied: six>=1.5 in /usr/local/lib/python3.11/dist-packages (from python-dateutil>=2.8.2->pandas->kagglehub[pandas-datasets]) (1.17.0)\r\n",
      "Requirement already satisfied: intel-openmp<2026,>=2024 in /usr/local/lib/python3.11/dist-packages (from mkl->numpy>=1.23.2->pandas->kagglehub[pandas-datasets]) (2024.2.0)\r\n",
      "Requirement already satisfied: tbb==2022.* in /usr/local/lib/python3.11/dist-packages (from mkl->numpy>=1.23.2->pandas->kagglehub[pandas-datasets]) (2022.2.0)\r\n",
      "Requirement already satisfied: tcmlib==1.* in /usr/local/lib/python3.11/dist-packages (from tbb==2022.*->mkl->numpy>=1.23.2->pandas->kagglehub[pandas-datasets]) (1.4.0)\r\n",
      "Requirement already satisfied: intel-cmplr-lib-rt in /usr/local/lib/python3.11/dist-packages (from mkl_umath->numpy>=1.23.2->pandas->kagglehub[pandas-datasets]) (2024.2.0)\r\n",
      "Requirement already satisfied: intel-cmplr-lib-ur==2024.2.0 in /usr/local/lib/python3.11/dist-packages (from intel-openmp<2026,>=2024->mkl->numpy>=1.23.2->pandas->kagglehub[pandas-datasets]) (2024.2.0)\r\n",
      "Note: you may need to restart the kernel to use updated packages.\n"
     ]
    }
   ],
   "source": [
    "pip install kagglehub[pandas-datasets]"
   ]
  },
  {
   "cell_type": "code",
   "execution_count": 2,
   "id": "1f997f5f",
   "metadata": {
    "execution": {
     "iopub.execute_input": "2025-09-26T18:02:20.676911Z",
     "iopub.status.busy": "2025-09-26T18:02:20.676570Z",
     "iopub.status.idle": "2025-09-26T18:02:23.691772Z",
     "shell.execute_reply": "2025-09-26T18:02:23.690684Z"
    },
    "papermill": {
     "duration": 3.022348,
     "end_time": "2025-09-26T18:02:23.693131",
     "exception": false,
     "start_time": "2025-09-26T18:02:20.670783",
     "status": "completed"
    },
    "tags": []
   },
   "outputs": [
    {
     "name": "stdout",
     "output_type": "stream",
     "text": [
      "Requirement already satisfied: opencv-python in /usr/local/lib/python3.11/dist-packages (4.11.0.86)\r\n",
      "Requirement already satisfied: numpy>=1.21.2 in /usr/local/lib/python3.11/dist-packages (from opencv-python) (1.26.4)\r\n",
      "Requirement already satisfied: mkl_fft in /usr/local/lib/python3.11/dist-packages (from numpy>=1.21.2->opencv-python) (1.3.8)\r\n",
      "Requirement already satisfied: mkl_random in /usr/local/lib/python3.11/dist-packages (from numpy>=1.21.2->opencv-python) (1.2.4)\r\n",
      "Requirement already satisfied: mkl_umath in /usr/local/lib/python3.11/dist-packages (from numpy>=1.21.2->opencv-python) (0.1.1)\r\n",
      "Requirement already satisfied: mkl in /usr/local/lib/python3.11/dist-packages (from numpy>=1.21.2->opencv-python) (2025.2.0)\r\n",
      "Requirement already satisfied: tbb4py in /usr/local/lib/python3.11/dist-packages (from numpy>=1.21.2->opencv-python) (2022.2.0)\r\n",
      "Requirement already satisfied: mkl-service in /usr/local/lib/python3.11/dist-packages (from numpy>=1.21.2->opencv-python) (2.4.1)\r\n",
      "Requirement already satisfied: intel-openmp<2026,>=2024 in /usr/local/lib/python3.11/dist-packages (from mkl->numpy>=1.21.2->opencv-python) (2024.2.0)\r\n",
      "Requirement already satisfied: tbb==2022.* in /usr/local/lib/python3.11/dist-packages (from mkl->numpy>=1.21.2->opencv-python) (2022.2.0)\r\n",
      "Requirement already satisfied: tcmlib==1.* in /usr/local/lib/python3.11/dist-packages (from tbb==2022.*->mkl->numpy>=1.21.2->opencv-python) (1.4.0)\r\n",
      "Requirement already satisfied: intel-cmplr-lib-rt in /usr/local/lib/python3.11/dist-packages (from mkl_umath->numpy>=1.21.2->opencv-python) (2024.2.0)\r\n",
      "Requirement already satisfied: intel-cmplr-lib-ur==2024.2.0 in /usr/local/lib/python3.11/dist-packages (from intel-openmp<2026,>=2024->mkl->numpy>=1.21.2->opencv-python) (2024.2.0)\r\n",
      "Note: you may need to restart the kernel to use updated packages.\n"
     ]
    }
   ],
   "source": [
    "pip install opencv-python"
   ]
  },
  {
   "cell_type": "code",
   "execution_count": 3,
   "id": "eff766cf",
   "metadata": {
    "execution": {
     "iopub.execute_input": "2025-09-26T18:02:23.701251Z",
     "iopub.status.busy": "2025-09-26T18:02:23.700968Z",
     "iopub.status.idle": "2025-09-26T18:02:38.636305Z",
     "shell.execute_reply": "2025-09-26T18:02:38.634466Z"
    },
    "papermill": {
     "duration": 14.941142,
     "end_time": "2025-09-26T18:02:38.637871",
     "exception": false,
     "start_time": "2025-09-26T18:02:23.696729",
     "status": "completed"
    },
    "tags": []
   },
   "outputs": [
    {
     "name": "stderr",
     "output_type": "stream",
     "text": [
      "2025-09-26 18:02:27.127671: E external/local_xla/xla/stream_executor/cuda/cuda_fft.cc:477] Unable to register cuFFT factory: Attempting to register factory for plugin cuFFT when one has already been registered\n",
      "WARNING: All log messages before absl::InitializeLog() is called are written to STDERR\n",
      "E0000 00:00:1758909747.322128      19 cuda_dnn.cc:8310] Unable to register cuDNN factory: Attempting to register factory for plugin cuDNN when one has already been registered\n",
      "E0000 00:00:1758909747.378525      19 cuda_blas.cc:1418] Unable to register cuBLAS factory: Attempting to register factory for plugin cuBLAS when one has already been registered\n"
     ]
    }
   ],
   "source": [
    "import kagglehub\n",
    "import pandas as pd\n",
    "import numpy as np\n",
    "import pickle\n",
    "import cv2\n",
    "import os\n",
    "import shutil\n",
    "from tensorflow.keras.utils import to_categorical\n",
    "import matplotlib.pyplot as plt"
   ]
  },
  {
   "cell_type": "code",
   "execution_count": 4,
   "id": "0b5ebbdc",
   "metadata": {
    "execution": {
     "iopub.execute_input": "2025-09-26T18:02:38.647030Z",
     "iopub.status.busy": "2025-09-26T18:02:38.646607Z",
     "iopub.status.idle": "2025-09-26T18:02:38.894330Z",
     "shell.execute_reply": "2025-09-26T18:02:38.893494Z"
    },
    "papermill": {
     "duration": 0.253048,
     "end_time": "2025-09-26T18:02:38.895587",
     "exception": false,
     "start_time": "2025-09-26T18:02:38.642539",
     "status": "completed"
    },
    "tags": []
   },
   "outputs": [
    {
     "name": "stdout",
     "output_type": "stream",
     "text": [
      "Path to dataset files: /kaggle/input/traffic-signs-preprocessed\n"
     ]
    }
   ],
   "source": [
    "base_path = kagglehub.dataset_download(\"valentynsichkar/traffic-signs-preprocessed\")\n",
    "print(\"Path to dataset files:\", base_path)"
   ]
  },
  {
   "cell_type": "code",
   "execution_count": 5,
   "id": "159cd85d",
   "metadata": {
    "execution": {
     "iopub.execute_input": "2025-09-26T18:02:38.903718Z",
     "iopub.status.busy": "2025-09-26T18:02:38.903498Z",
     "iopub.status.idle": "2025-09-26T18:02:38.928279Z",
     "shell.execute_reply": "2025-09-26T18:02:38.927453Z"
    },
    "papermill": {
     "duration": 0.030033,
     "end_time": "2025-09-26T18:02:38.929316",
     "exception": false,
     "start_time": "2025-09-26T18:02:38.899283",
     "status": "completed"
    },
    "tags": []
   },
   "outputs": [
    {
     "name": "stdout",
     "output_type": "stream",
     "text": [
      "Dataset Classes:\n",
      "\n",
      "    ClassId                                           SignName\n",
      "0         0                               Speed limit (20km/h)\n",
      "1         1                               Speed limit (30km/h)\n",
      "2         2                               Speed limit (50km/h)\n",
      "3         3                               Speed limit (60km/h)\n",
      "4         4                               Speed limit (70km/h)\n",
      "5         5                               Speed limit (80km/h)\n",
      "6         6                        End of speed limit (80km/h)\n",
      "7         7                              Speed limit (100km/h)\n",
      "8         8                              Speed limit (120km/h)\n",
      "9         9                                         No passing\n",
      "10       10       No passing for vehicles over 3.5 metric tons\n",
      "11       11              Right-of-way at the next intersection\n",
      "12       12                                      Priority road\n",
      "13       13                                              Yield\n",
      "14       14                                               Stop\n",
      "15       15                                        No vehicles\n",
      "16       16           Vehicles over 3.5 metric tons prohibited\n",
      "17       17                                           No entry\n",
      "18       18                                    General caution\n",
      "19       19                        Dangerous curve to the left\n",
      "20       20                       Dangerous curve to the right\n",
      "21       21                                       Double curve\n",
      "22       22                                         Bumpy road\n",
      "23       23                                      Slippery road\n",
      "24       24                          Road narrows on the right\n",
      "25       25                                          Road work\n",
      "26       26                                    Traffic signals\n",
      "27       27                                        Pedestrians\n",
      "28       28                                  Children crossing\n",
      "29       29                                  Bicycles crossing\n",
      "30       30                                 Beware of ice/snow\n",
      "31       31                              Wild animals crossing\n",
      "32       32                End of all speed and passing limits\n",
      "33       33                                   Turn right ahead\n",
      "34       34                                    Turn left ahead\n",
      "35       35                                         Ahead only\n",
      "36       36                               Go straight or right\n",
      "37       37                                Go straight or left\n",
      "38       38                                         Keep right\n",
      "39       39                                          Keep left\n",
      "40       40                               Roundabout mandatory\n",
      "41       41                                  End of no passing\n",
      "42       42  End of no passing by vehicles over 3.5 metric ...\n"
     ]
    }
   ],
   "source": [
    "# Read classes\n",
    "label_path = os.path.join(base_path, 'label_names.csv')\n",
    "labels = pd.read_csv(label_path)\n",
    "num_classes = len(labels)\n",
    "print(f'Dataset Classes:\\n\\n{labels}')"
   ]
  },
  {
   "cell_type": "code",
   "execution_count": 6,
   "id": "383a5039",
   "metadata": {
    "execution": {
     "iopub.execute_input": "2025-09-26T18:02:38.936946Z",
     "iopub.status.busy": "2025-09-26T18:02:38.936746Z",
     "iopub.status.idle": "2025-09-26T18:02:38.942554Z",
     "shell.execute_reply": "2025-09-26T18:02:38.942005Z"
    },
    "papermill": {
     "duration": 0.010772,
     "end_time": "2025-09-26T18:02:38.943552",
     "exception": false,
     "start_time": "2025-09-26T18:02:38.932780",
     "status": "completed"
    },
    "tags": []
   },
   "outputs": [
    {
     "data": {
      "text/plain": [
       "'/kaggle/working/label_names.csv'"
      ]
     },
     "execution_count": 6,
     "metadata": {},
     "output_type": "execute_result"
    }
   ],
   "source": [
    "# Copy label file\n",
    "dest_path = os.path.join(os.getcwd(), 'label_names.csv')\n",
    "shutil.copy(label_path, dest_path)"
   ]
  },
  {
   "cell_type": "code",
   "execution_count": 7,
   "id": "ab5b381c",
   "metadata": {
    "execution": {
     "iopub.execute_input": "2025-09-26T18:02:38.952509Z",
     "iopub.status.busy": "2025-09-26T18:02:38.952290Z",
     "iopub.status.idle": "2025-09-26T18:02:45.285658Z",
     "shell.execute_reply": "2025-09-26T18:02:45.284919Z"
    },
    "papermill": {
     "duration": 6.338733,
     "end_time": "2025-09-26T18:02:45.286854",
     "exception": false,
     "start_time": "2025-09-26T18:02:38.948121",
     "status": "completed"
    },
    "tags": []
   },
   "outputs": [
    {
     "name": "stdout",
     "output_type": "stream",
     "text": [
      "(86989, 3, 32, 32)\n"
     ]
    }
   ],
   "source": [
    "# Check the image array format\n",
    "data_path = f\"data0.pickle\"\n",
    "data_file = os.path.join(base_path, data_path)\n",
    "    \n",
    "with open(data_file, \"rb\") as f:\n",
    "    data = pickle.load(f)\n",
    "    \n",
    "# Process and append the arrays to their respective lists\n",
    "print(data['x_train'].shape)"
   ]
  },
  {
   "cell_type": "markdown",
   "id": "f7920b7f",
   "metadata": {
    "papermill": {
     "duration": 0.003733,
     "end_time": "2025-09-26T18:02:45.294564",
     "exception": false,
     "start_time": "2025-09-26T18:02:45.290831",
     "status": "completed"
    },
    "tags": []
   },
   "source": [
    "* Image Preprocessing and Data Cleaning"
   ]
  },
  {
   "cell_type": "code",
   "execution_count": 8,
   "id": "6d976526",
   "metadata": {
    "execution": {
     "iopub.execute_input": "2025-09-26T18:02:45.302508Z",
     "iopub.status.busy": "2025-09-26T18:02:45.302272Z",
     "iopub.status.idle": "2025-09-26T18:02:45.308078Z",
     "shell.execute_reply": "2025-09-26T18:02:45.307555Z"
    },
    "papermill": {
     "duration": 0.011052,
     "end_time": "2025-09-26T18:02:45.309140",
     "exception": false,
     "start_time": "2025-09-26T18:02:45.298088",
     "status": "completed"
    },
    "tags": []
   },
   "outputs": [],
   "source": [
    "def data_preprocessing(x_array, y_array, num_classes):\n",
    "    \"\"\"\n",
    "    - Transpose images from (C, H, W) to (H, W, C)\n",
    "    - Convert ALL images to single-channel Grayscale (H, W, 1)\n",
    "    - No normalization (pixel range remains [0, 255])\n",
    "    - One-hot encode labels\n",
    "    \"\"\"\n",
    "    processed_images = []\n",
    "    labels = []\n",
    "\n",
    "    for img in x_array:\n",
    "        # Convert to float32 early to handle calculations consistently\n",
    "        img = img.astype(np.float32)\n",
    "\n",
    "        # Grayscale image: C=1 -> Transpose to (H, W, 1)\n",
    "        if img.shape[0] == 1:\n",
    "            grayscale = np.transpose(img, (1, 2, 0))\n",
    "            \n",
    "        # Color image: C=3 -> Convert to Grayscale (H, W, 1)\n",
    "        elif img.shape[0] == 3:\n",
    "            # Transpose from (C, H, W) to (H, W, C)\n",
    "            rgb_transposed = np.transpose(img, (1, 2, 0))\n",
    "            \n",
    "            # Convert to uint8 for cv2 (assuming input is [0, 255])\n",
    "            rgb_for_cv2 = np.clip(rgb_transposed, 0, 255).astype(np.uint8)\n",
    "            \n",
    "            # Convert Color to Grayscale (H, W, 3) -> (H, W)\n",
    "            gray_hw = cv2.cvtColor(rgb_for_cv2, cv2.COLOR_RGB2GRAY)\n",
    "            \n",
    "            # Add channel dimension: (H, W) -> (H, W, 1) and keep as float32\n",
    "            grayscale = np.expand_dims(gray_hw.astype(np.float32), axis=-1)\n",
    "\n",
    "        processed_images.append(grayscale)\n",
    "\n",
    "    # One-hot encode labels\n",
    "    labels_cat = to_categorical(y_array, num_classes=num_classes)\n",
    "    \n",
    "    # Return images as (N, H, W, 1) float32 array and one-hot labels\n",
    "    return np.array(processed_images, dtype=np.float32), labels_cat"
   ]
  },
  {
   "cell_type": "code",
   "execution_count": 9,
   "id": "c4ca3aba",
   "metadata": {
    "execution": {
     "iopub.execute_input": "2025-09-26T18:02:45.316966Z",
     "iopub.status.busy": "2025-09-26T18:02:45.316761Z",
     "iopub.status.idle": "2025-09-26T18:03:47.245432Z",
     "shell.execute_reply": "2025-09-26T18:03:47.244723Z"
    },
    "papermill": {
     "duration": 61.934321,
     "end_time": "2025-09-26T18:03:47.247015",
     "exception": false,
     "start_time": "2025-09-26T18:02:45.312694",
     "status": "completed"
    },
    "tags": []
   },
   "outputs": [],
   "source": [
    "all_x_train, all_y_train = [], []\n",
    "all_x_valid, all_y_valid = [], []\n",
    "all_x_test,  all_y_test  = [], []\n",
    "\n",
    "for data_no in range(9):\n",
    "    data_file = os.path.join(base_path, f\"data{data_no}.pickle\")\n",
    "    with open(data_file, \"rb\") as f:\n",
    "        data = pickle.load(f)\n",
    "\n",
    "    x_train_chunk, y_train_chunk = data_preprocessing(data['x_train'], data['y_train'], num_classes)\n",
    "    x_valid_chunk, y_valid_chunk = data_preprocessing(data['x_validation'], data['y_validation'], num_classes)\n",
    "    x_test_chunk,  y_test_chunk  = data_preprocessing(data['x_test'],  data['y_test'], num_classes)\n",
    "\n",
    "    all_x_train.append(x_train_chunk)\n",
    "    all_y_train.append(y_train_chunk)\n",
    "\n",
    "    all_x_valid.append(x_valid_chunk)\n",
    "    all_y_valid.append(y_valid_chunk)\n",
    "\n",
    "    all_x_test.append(x_test_chunk)\n",
    "    all_y_test.append(y_test_chunk)"
   ]
  },
  {
   "cell_type": "code",
   "execution_count": 10,
   "id": "b308db0e",
   "metadata": {
    "execution": {
     "iopub.execute_input": "2025-09-26T18:03:47.256151Z",
     "iopub.status.busy": "2025-09-26T18:03:47.255916Z",
     "iopub.status.idle": "2025-09-26T18:03:48.667558Z",
     "shell.execute_reply": "2025-09-26T18:03:48.666936Z"
    },
    "papermill": {
     "duration": 1.417443,
     "end_time": "2025-09-26T18:03:48.668888",
     "exception": false,
     "start_time": "2025-09-26T18:03:47.251445",
     "status": "completed"
    },
    "tags": []
   },
   "outputs": [],
   "source": [
    "# Concatenate all chunks\n",
    "x_train = np.concatenate(all_x_train, axis=0)\n",
    "y_train = np.concatenate(all_y_train, axis=0)\n",
    "\n",
    "x_valid = np.concatenate(all_x_valid, axis=0)\n",
    "y_valid = np.concatenate(all_y_valid, axis=0)\n",
    "\n",
    "x_test = np.concatenate(all_x_test, axis=0)\n",
    "y_test = np.concatenate(all_y_test, axis=0)"
   ]
  },
  {
   "cell_type": "code",
   "execution_count": 11,
   "id": "6d6e483f",
   "metadata": {
    "execution": {
     "iopub.execute_input": "2025-09-26T18:03:48.677510Z",
     "iopub.status.busy": "2025-09-26T18:03:48.677277Z",
     "iopub.status.idle": "2025-09-26T18:03:48.681507Z",
     "shell.execute_reply": "2025-09-26T18:03:48.680714Z"
    },
    "papermill": {
     "duration": 0.009629,
     "end_time": "2025-09-26T18:03:48.682546",
     "exception": false,
     "start_time": "2025-09-26T18:03:48.672917",
     "status": "completed"
    },
    "tags": []
   },
   "outputs": [
    {
     "name": "stdout",
     "output_type": "stream",
     "text": [
      "Final dataset shapes:\n",
      "x_train: (782901, 32, 32, 1), y_train: (782901, 43)\n",
      "x_valid: (39690, 32, 32, 1), y_valid: (39690, 43)\n",
      "x_test: (113670, 32, 32, 1), y_test: (113670, 43)\n"
     ]
    }
   ],
   "source": [
    "print(\"Final dataset shapes:\")\n",
    "print(f\"x_train: {x_train.shape}, y_train: {y_train.shape}\")\n",
    "print(f\"x_valid: {x_valid.shape}, y_valid: {y_valid.shape}\")\n",
    "print(f\"x_test: {x_test.shape}, y_test: {y_test.shape}\")"
   ]
  },
  {
   "cell_type": "code",
   "execution_count": 12,
   "id": "68fa193f",
   "metadata": {
    "execution": {
     "iopub.execute_input": "2025-09-26T18:03:48.690696Z",
     "iopub.status.busy": "2025-09-26T18:03:48.690503Z",
     "iopub.status.idle": "2025-09-26T18:03:50.192094Z",
     "shell.execute_reply": "2025-09-26T18:03:50.191228Z"
    },
    "papermill": {
     "duration": 1.50708,
     "end_time": "2025-09-26T18:03:50.193315",
     "exception": false,
     "start_time": "2025-09-26T18:03:48.686235",
     "status": "completed"
    },
    "tags": []
   },
   "outputs": [
    {
     "name": "stdout",
     "output_type": "stream",
     "text": [
      "Minimum value of x_train dataset: -1.9063234329223633\n",
      "Maximum value of x_train dataset: 255.0\n",
      "Minimum value of x_valid dataset: -1.845461368560791\n",
      "Maximum value of x_valid dataset: 255.0\n",
      "Minimum value of x_test dataset: -1.8758924007415771\n",
      "Maximum value of x_test dataset: 255.0\n"
     ]
    }
   ],
   "source": [
    "print(f\"Minimum value of x_train dataset: {x_train.min()}\")\n",
    "print(f\"Maximum value of x_train dataset: {x_train.max()}\")\n",
    "\n",
    "print(f\"Minimum value of x_valid dataset: {x_valid.min()}\")\n",
    "print(f\"Maximum value of x_valid dataset: {x_valid.max()}\")\n",
    "\n",
    "print(f\"Minimum value of x_test dataset: {x_test.min()}\")\n",
    "print(f\"Maximum value of x_test dataset: {x_test.max()}\")"
   ]
  },
  {
   "cell_type": "markdown",
   "id": "149f0411",
   "metadata": {
    "papermill": {
     "duration": 0.00367,
     "end_time": "2025-09-26T18:03:50.200929",
     "exception": false,
     "start_time": "2025-09-26T18:03:50.197259",
     "status": "completed"
    },
    "tags": []
   },
   "source": [
    "* Save the datasets"
   ]
  },
  {
   "cell_type": "code",
   "execution_count": 13,
   "id": "d051253b",
   "metadata": {
    "execution": {
     "iopub.execute_input": "2025-09-26T18:03:50.209048Z",
     "iopub.status.busy": "2025-09-26T18:03:50.208822Z",
     "iopub.status.idle": "2025-09-26T18:03:50.211854Z",
     "shell.execute_reply": "2025-09-26T18:03:50.211346Z"
    },
    "papermill": {
     "duration": 0.008205,
     "end_time": "2025-09-26T18:03:50.212750",
     "exception": false,
     "start_time": "2025-09-26T18:03:50.204545",
     "status": "completed"
    },
    "tags": []
   },
   "outputs": [],
   "source": [
    "#!rm -rf /kaggle/working/*"
   ]
  },
  {
   "cell_type": "code",
   "execution_count": 14,
   "id": "09cee9ad",
   "metadata": {
    "execution": {
     "iopub.execute_input": "2025-09-26T18:03:50.220672Z",
     "iopub.status.busy": "2025-09-26T18:03:50.220479Z",
     "iopub.status.idle": "2025-09-26T18:03:54.478888Z",
     "shell.execute_reply": "2025-09-26T18:03:54.478052Z"
    },
    "papermill": {
     "duration": 4.264643,
     "end_time": "2025-09-26T18:03:54.481020",
     "exception": false,
     "start_time": "2025-09-26T18:03:50.216377",
     "status": "completed"
    },
    "tags": []
   },
   "outputs": [],
   "source": [
    "with open('x_train.pkl', 'wb') as file: pickle.dump(x_train, file, protocol=pickle.HIGHEST_PROTOCOL)\n",
    "with open('y_train.pkl', 'wb') as file: pickle.dump(y_train, file, protocol=pickle.HIGHEST_PROTOCOL)\n",
    "with open('x_valid.pkl', 'wb') as file: pickle.dump(x_valid, file, protocol=pickle.HIGHEST_PROTOCOL)\n",
    "with open('y_valid.pkl', 'wb') as file: pickle.dump(y_valid, file, protocol=pickle.HIGHEST_PROTOCOL)\n",
    "with open('x_test.pkl', 'wb') as file: pickle.dump(x_test, file, protocol=pickle.HIGHEST_PROTOCOL)\n",
    "with open('y_test.pkl', 'wb') as file: pickle.dump(y_test, file, protocol=pickle.HIGHEST_PROTOCOL)"
   ]
  },
  {
   "cell_type": "markdown",
   "id": "e948ac82",
   "metadata": {
    "papermill": {
     "duration": 0.07494,
     "end_time": "2025-09-26T18:03:54.594385",
     "exception": false,
     "start_time": "2025-09-26T18:03:54.519445",
     "status": "completed"
    },
    "tags": []
   },
   "source": [
    "**Data Visualization**"
   ]
  },
  {
   "cell_type": "markdown",
   "id": "31f01a0c",
   "metadata": {
    "papermill": {
     "duration": 0.074624,
     "end_time": "2025-09-26T18:03:54.744371",
     "exception": false,
     "start_time": "2025-09-26T18:03:54.669747",
     "status": "completed"
    },
    "tags": []
   },
   "source": [
    "* Class-wise Sample Distribution"
   ]
  },
  {
   "cell_type": "code",
   "execution_count": 15,
   "id": "64b57e10",
   "metadata": {
    "execution": {
     "iopub.execute_input": "2025-09-26T18:03:54.894053Z",
     "iopub.status.busy": "2025-09-26T18:03:54.893659Z",
     "iopub.status.idle": "2025-09-26T18:03:55.694846Z",
     "shell.execute_reply": "2025-09-26T18:03:55.694239Z"
    },
    "papermill": {
     "duration": 0.87763,
     "end_time": "2025-09-26T18:03:55.696206",
     "exception": false,
     "start_time": "2025-09-26T18:03:54.818576",
     "status": "completed"
    },
    "tags": []
   },
   "outputs": [
    {
     "data": {
      "image/png": "[encoded data removed]",
      "text/plain": [
       "<Figure size 1200x500 with 1 Axes>"
      ]
     },
     "metadata": {},
     "output_type": "display_data"
    },
    {
     "data": {
      "image/png": "[encoded data removed]",
      "text/plain": [
       "<Figure size 1200x500 with 1 Axes>"
      ]
     },
     "metadata": {},
     "output_type": "display_data"
    },
    {
     "data": {
      "image/png": "[encoded data removed]",
      "text/plain": [
       "<Figure size 1200x500 with 1 Axes>"
      ]
     },
     "metadata": {},
     "output_type": "display_data"
    }
   ],
   "source": [
    "def plot_distribution(y, title):\n",
    "    class_counts = np.sum(y, axis=0)\n",
    "    plt.figure(figsize=(12,5))\n",
    "    plt.bar(range(len(class_counts)), class_counts)\n",
    "    plt.title(title)\n",
    "    plt.xlabel(\"Class Labels\")\n",
    "    plt.ylabel(\"Sample Count\")\n",
    "    plt.show()\n",
    "\n",
    "plot_distribution(y_train, \"Train Set Distribution\")\n",
    "plot_distribution(y_valid, \"Validation Set Distribution\")\n",
    "plot_distribution(y_test, \"Test Set Distribution\")"
   ]
  },
  {
   "cell_type": "markdown",
   "id": "0b8edad2",
   "metadata": {
    "papermill": {
     "duration": 0.004786,
     "end_time": "2025-09-26T18:03:55.758051",
     "exception": false,
     "start_time": "2025-09-26T18:03:55.753265",
     "status": "completed"
    },
    "tags": []
   },
   "source": [
    "* Random Samples with Labels"
   ]
  },
  {
   "cell_type": "code",
   "execution_count": 16,
   "id": "2b183087",
   "metadata": {
    "execution": {
     "iopub.execute_input": "2025-09-26T18:03:55.827484Z",
     "iopub.status.busy": "2025-09-26T18:03:55.827105Z",
     "iopub.status.idle": "2025-09-26T18:03:56.175955Z",
     "shell.execute_reply": "2025-09-26T18:03:56.175232Z"
    },
    "papermill": {
     "duration": 0.357736,
     "end_time": "2025-09-26T18:03:56.177227",
     "exception": false,
     "start_time": "2025-09-26T18:03:55.819491",
     "status": "completed"
    },
    "tags": []
   },
   "outputs": [
    {
     "data": {
      "image/png": "[encoded data removed]",
      "text/plain": [
       "<Figure size 1500x400 with 5 Axes>"
      ]
     },
     "metadata": {},
     "output_type": "display_data"
    }
   ],
   "source": [
    "num_samples = 5\n",
    "indices = np.random.choice(len(x_test), num_samples, replace=False)\n",
    "fig, axs = plt.subplots(1, num_samples, figsize=(15, 4))\n",
    "fig.suptitle('Random Test Samples with Labels', fontsize=16)\n",
    "\n",
    "for i, ax in enumerate(axs.flatten()):\n",
    "    img = x_test[indices[i]]\n",
    "    label = np.argmax(y_test[indices[i]])\n",
    "    ax.imshow(img, cmap='gray') \n",
    "    ax.set_title(f'Label: {label}')\n",
    "    ax.axis('off')\n",
    "\n",
    "plt.tight_layout()\n",
    "plt.show()"
   ]
  },
  {
   "cell_type": "markdown",
   "id": "0db8b10c",
   "metadata": {
    "papermill": {
     "duration": 0.005232,
     "end_time": "2025-09-26T18:03:56.188201",
     "exception": false,
     "start_time": "2025-09-26T18:03:56.182969",
     "status": "completed"
    },
    "tags": []
   },
   "source": [
    "* Detection of Mostly Black (Blank) Images within \"data0.pickle\" File"
   ]
  },
  {
   "cell_type": "code",
   "execution_count": 17,
   "id": "8c69ab88",
   "metadata": {
    "execution": {
     "iopub.execute_input": "2025-09-26T18:03:56.199486Z",
     "iopub.status.busy": "2025-09-26T18:03:56.199281Z",
     "iopub.status.idle": "2025-09-26T18:03:57.456373Z",
     "shell.execute_reply": "2025-09-26T18:03:57.455513Z"
    },
    "papermill": {
     "duration": 1.264256,
     "end_time": "2025-09-26T18:03:57.457736",
     "exception": false,
     "start_time": "2025-09-26T18:03:56.193480",
     "status": "completed"
    },
    "tags": []
   },
   "outputs": [
    {
     "name": "stdout",
     "output_type": "stream",
     "text": [
      "Found 270 mostly black images.\n"
     ]
    }
   ],
   "source": [
    "data_file = os.path.join(base_path, \"data0.pickle\")\n",
    "\n",
    "# Open the pickle file in read-binary mode\n",
    "with open(data_file, \"rb\") as f:\n",
    "    # Load the data from the file\n",
    "    data = pickle.load(f)\n",
    "\n",
    "# Select the training images from the loaded data\n",
    "images = data['x_train']\n",
    "\n",
    "def find_mostly_black_images(images, threshold=10, black_ratio=0.95, max_show=10):\n",
    "    mostly_black_idxs = []\n",
    "    for idx, img in enumerate(images):\n",
    "        # Transpose from (C, H, W) to (H, W, C) for display/calculation\n",
    "        if img.shape[0] in [1, 3]:\n",
    "            img_show = np.transpose(img, (1, 2, 0)).squeeze()\n",
    "        else:\n",
    "            img_show = img.squeeze()\n",
    "            \n",
    "        # Black pixel rate calculation\n",
    "        # Count pixels below the brightness threshold\n",
    "        black_pixels = np.sum(img_show < threshold)\n",
    "        total_pixels = img_show.size\n",
    "        ratio = black_pixels / total_pixels\n",
    "        \n",
    "        # Check if the ratio of black pixels exceeds the required threshold\n",
    "        if ratio > black_ratio:\n",
    "            mostly_black_idxs.append((idx, ratio))\n",
    "\n",
    "    # Print the final count of mostly black images found\n",
    "    print(f\"Found {len(mostly_black_idxs)} mostly black images.\")\n",
    "\n",
    "find_mostly_black_images(images)"
   ]
  }
 ],
 "metadata": {
  "kaggle": {
   "accelerator": "gpu",
   "dataSources": [
    {
     "databundleVersionId": 676359,
     "datasetId": 327959,
     "isSourceIdPinned": false,
     "sourceId": 657000,
     "sourceType": "datasetVersion"
    }
   ],
   "dockerImageVersionId": 31090,
   "isGpuEnabled": true,
   "isInternetEnabled": true,
   "language": "python",
   "sourceType": "notebook"
  },
  "kernelspec": {
   "display_name": "Python 3",
   "language": "python",
   "name": "python3"
  },
  "language_info": {
   "codemirror_mode": {
    "name": "ipython",
    "version": 3
   },
   "file_extension": ".py",
   "mimetype": "text/x-python",
   "name": "python",
   "nbconvert_exporter": "python",
   "pygments_lexer": "ipython3",
   "version": "3.11.13"
  },
  "papermill": {
   "default_parameters": {},
   "duration": 108.217036,
   "end_time": "2025-09-26T18:04:00.912448",
   "environment_variables": {},
   "exception": null,
   "input_path": "__notebook__.ipynb",
   "output_path": "__notebook__.ipynb",
   "parameters": {},
   "start_time": "2025-09-26T18:02:12.695412",
   "version": "2.6.0"
  }
 },
 "nbformat": 4,
 "nbformat_minor": 5
}
